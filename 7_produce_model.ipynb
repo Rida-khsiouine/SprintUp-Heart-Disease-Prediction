{
 "cells": [
  {
   "cell_type": "markdown",
   "id": "d5265b71",
   "metadata": {},
   "source": [
    "#  Model Export & Deployment"
   ]
  },
  {
   "cell_type": "code",
   "execution_count": 7,
   "id": "58f2fc7d",
   "metadata": {},
   "outputs": [],
   "source": [
    "import pickle\n",
    "from sklearn.pipeline import Pipeline\n",
    "from sklearn.svm import SVC\n",
    "from sklearn.base import BaseEstimator, TransformerMixin\n",
    "import warnings\n",
    "warnings.filterwarnings(\"ignore\")"
   ]
  },
  {
   "cell_type": "code",
   "execution_count": 8,
   "id": "79223950",
   "metadata": {},
   "outputs": [],
   "source": [
    "%%capture\n",
    "%run \"./03_feature_selection.ipynb\""
   ]
  },
  {
   "cell_type": "code",
   "execution_count": 9,
   "id": "daec886f",
   "metadata": {},
   "outputs": [
    {
     "name": "stdout",
     "output_type": "stream",
     "text": [
      "Pipeline + trained model saved as 'model.pkl'\n"
     ]
    }
   ],
   "source": [
    "# Custom feature selector\n",
    "\n",
    "class CustomFeatureSelector(BaseEstimator, TransformerMixin):\n",
    "    def __init__(self, selected_features=None):\n",
    "        if selected_features is None:\n",
    "            selected_features = [\n",
    "                'sex', 'cp_2', 'cp_3', 'cp_4',\n",
    "                'slope_2', 'slope_3', 'oldpeak',\n",
    "                'ca', 'thal_6.0', 'thal_7.0'\n",
    "            ]\n",
    "        self.selected_features = selected_features\n",
    "\n",
    "    def fit(self, X, y=None):\n",
    "        missing = [feat for feat in self.selected_features if feat not in X.columns]\n",
    "        if missing:\n",
    "            raise ValueError(f\"Missing columns in input data: {missing}\")\n",
    "        return self\n",
    "\n",
    "    def transform(self, X):\n",
    "        return X[self.selected_features]\n",
    "\n",
    "\n",
    "# Pipeline (feature selection + model)\n",
    "\n",
    "pipeline = Pipeline([\n",
    "    ('custom_selector', CustomFeatureSelector()),\n",
    "    ('svm', SVC(C=10, degree=4, gamma=0.01, kernel='poly'))\n",
    "])\n",
    "\n",
    "\n",
    "# Fit the pipeline\n",
    "\n",
    "X_train = X_final  # your cleaned features\n",
    "y_train = y  # your cleaned target\n",
    "pipeline.fit(X_train, y_train)\n",
    "\n",
    "# Save pipeline to .pkl\n",
    "\n",
    "with open('model.pkl', 'wb') as f:\n",
    "    pickle.dump(pipeline, f)\n",
    "\n",
    "print(\"Pipeline + trained model saved as 'model.pkl'\")\n"
   ]
  }
 ],
 "metadata": {
  "kernelspec": {
   "display_name": ".venv (3.11.9)",
   "language": "python",
   "name": "python3"
  },
  "language_info": {
   "codemirror_mode": {
    "name": "ipython",
    "version": 3
   },
   "file_extension": ".py",
   "mimetype": "text/x-python",
   "name": "python",
   "nbconvert_exporter": "python",
   "pygments_lexer": "ipython3",
   "version": "3.11.9"
  }
 },
 "nbformat": 4,
 "nbformat_minor": 5
}
