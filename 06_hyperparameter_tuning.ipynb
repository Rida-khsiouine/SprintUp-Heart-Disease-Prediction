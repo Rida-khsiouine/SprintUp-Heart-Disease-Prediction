{
 "cells": [
  {
   "cell_type": "code",
   "execution_count": 1,
   "id": "702b7eee",
   "metadata": {},
   "outputs": [],
   "source": [
    "import numpy as np\n",
    "import pandas as pd\n",
    "import warnings\n",
    "warnings.filterwarnings(\"ignore\")\n",
    "\n",
    "from sklearn.model_selection import train_test_split, GridSearchCV, RandomizedSearchCV\n",
    "from sklearn.linear_model import LogisticRegression\n",
    "from sklearn.tree import DecisionTreeClassifier\n",
    "from sklearn.ensemble import RandomForestClassifier\n",
    "from sklearn.svm import SVC\n",
    "from sklearn.metrics import accuracy_score"
   ]
  },
  {
   "cell_type": "code",
   "execution_count": 2,
   "id": "fa95d265",
   "metadata": {},
   "outputs": [],
   "source": [
    "%%capture\n",
    "%run \"./04_supervised_learning.ipynb\""
   ]
  },
  {
   "cell_type": "code",
   "execution_count": 3,
   "id": "010ab05a",
   "metadata": {},
   "outputs": [],
   "source": [
    "# Prepare Data\n",
    "\n",
    "X_train, X_test, y_train, y_test = train_test_split(\n",
    "    X_final, y, test_size=0.2, random_state=42\n",
    ")\n",
    "\n",
    "# Helper function\n",
    "\n",
    "def accuracy_calc(model):\n",
    "    \"\"\"Print train & test accuracy for a fitted model\"\"\"\n",
    "    y_pred_train = model.predict(X_train)\n",
    "    y_pred_test = model.predict(X_test)\n",
    "\n",
    "    train_acc = accuracy_score(y_train, y_pred_train)\n",
    "    test_acc = accuracy_score(y_test, y_pred_test)\n",
    "\n",
    "    print(f\"accuracy of training data = {train_acc*100:.2f}%\")\n",
    "    print(f\"accuracy of testing data = {test_acc*100:.2f}%\")\n",
    "    return test_acc\n"
   ]
  },
  {
   "cell_type": "code",
   "execution_count": 4,
   "id": "6a5ba185",
   "metadata": {},
   "outputs": [
    {
     "name": "stdout",
     "output_type": "stream",
     "text": [
      "=== Logistic Regression ===\n",
      "Best parameters (GridSearch): {'C': 1, 'l1_ratio': 0, 'max_iter': 100, 'penalty': 'l1', 'solver': 'saga'}\n",
      "accuracy of training data = 59.49%\n",
      "accuracy of testing data = 61.67%\n",
      "\n",
      "\n",
      "Best parameters (RandomSearch): {'solver': 'saga', 'penalty': 'l1', 'max_iter': 200, 'l1_ratio': 0.25, 'C': 1}\n",
      "accuracy of training data = 60.34%\n",
      "accuracy of testing data = 61.67%\n",
      "\n",
      "\n",
      "\n"
     ]
    }
   ],
   "source": [
    "# 1 - Logistic Regression\n",
    "\n",
    "print(\"=== Logistic Regression ===\")\n",
    "lrmodel = LogisticRegression()\n",
    "\n",
    "lr_param_grid = {\n",
    "    'penalty': ['l1', 'l2', 'elasticnet'],\n",
    "    'C': [0.01, 0.1, 1, 10, 100],\n",
    "    'solver': ['liblinear', 'saga'],\n",
    "    'max_iter': [100, 200, 500],\n",
    "    'l1_ratio': [0, 0.25, 0.5, 0.75, 1]\n",
    "}\n",
    "\n",
    "lr_grid_search = GridSearchCV(lrmodel, lr_param_grid, cv=5, scoring='accuracy', error_score=np.nan)\n",
    "lr_grid_search.fit(X_train, y_train)\n",
    "\n",
    "print(\"Best parameters (GridSearch):\", lr_grid_search.best_params_)\n",
    "acc_lr_grid = accuracy_calc(lr_grid_search)\n",
    "print(\"\\n\")\n",
    "\n",
    "lr_random_search = RandomizedSearchCV(lrmodel, lr_param_grid, cv=5, scoring='accuracy', n_iter=20, error_score=np.nan)\n",
    "lr_random_search.fit(X_train, y_train)\n",
    "\n",
    "print(\"Best parameters (RandomSearch):\", lr_random_search.best_params_)\n",
    "acc_lr_random = accuracy_calc(lr_random_search)\n",
    "print(\"\\n\\n\")"
   ]
  },
  {
   "cell_type": "code",
   "execution_count": 5,
   "id": "974516a0",
   "metadata": {},
   "outputs": [
    {
     "name": "stdout",
     "output_type": "stream",
     "text": [
      "=== Decision Tree ===\n",
      "Best parameters (GridSearch): {'criterion': 'entropy', 'max_depth': 10, 'max_features': 'log2', 'min_samples_leaf': 1, 'min_samples_split': 5}\n",
      "accuracy of training data = 73.84%\n",
      "accuracy of testing data = 56.67%\n",
      "\n",
      "\n",
      "Best parameters (RandomSearch): {'min_samples_split': 2, 'min_samples_leaf': 4, 'max_features': 'log2', 'max_depth': 20, 'criterion': 'entropy'}\n",
      "accuracy of training data = 63.29%\n",
      "accuracy of testing data = 68.33%\n",
      "\n",
      "\n",
      "\n"
     ]
    }
   ],
   "source": [
    "# 2 - Decision Tree\n",
    "\n",
    "print(\"=== Decision Tree ===\")\n",
    "dtmodel = DecisionTreeClassifier()\n",
    "\n",
    "dt_param_grid = {\n",
    "    'criterion': ['gini', 'entropy'],\n",
    "    'max_depth': [5, 10, 15, 20],\n",
    "    'min_samples_split': [2, 5, 10],\n",
    "    'min_samples_leaf': [1, 2, 4],\n",
    "    'max_features': ['sqrt', 'log2', None]\n",
    "}\n",
    "\n",
    "dt_grid_search = GridSearchCV(dtmodel, dt_param_grid, cv=5, scoring='accuracy')\n",
    "dt_grid_search.fit(X_train, y_train)\n",
    "\n",
    "print(\"Best parameters (GridSearch):\", dt_grid_search.best_params_)\n",
    "acc_dt_grid = accuracy_calc(dt_grid_search)\n",
    "print(\"\\n\")\n",
    "\n",
    "dt_random_search = RandomizedSearchCV(dtmodel, dt_param_grid, cv=5, scoring='accuracy', n_iter=20)\n",
    "dt_random_search.fit(X_train, y_train)\n",
    "\n",
    "print(\"Best parameters (RandomSearch):\", dt_random_search.best_params_)\n",
    "acc_dt_random = accuracy_calc(dt_random_search)\n",
    "print(\"\\n\\n\")\n"
   ]
  },
  {
   "cell_type": "code",
   "execution_count": 6,
   "id": "be07ec59",
   "metadata": {},
   "outputs": [
    {
     "name": "stdout",
     "output_type": "stream",
     "text": [
      " Random Forest \n",
      "Best parameters (GridSearch): {'bootstrap': True, 'max_depth': None, 'max_features': 'sqrt', 'min_samples_leaf': 2, 'min_samples_split': 2, 'n_estimators': 200}\n",
      "accuracy of training data = 78.48%\n",
      "accuracy of testing data = 65.00%\n",
      "\n",
      "\n",
      "Best parameters (RandomSearch): {'n_estimators': 100, 'min_samples_split': 4, 'min_samples_leaf': 2, 'max_features': 'sqrt', 'max_depth': 30, 'bootstrap': True}\n",
      "accuracy of training data = 77.64%\n",
      "accuracy of testing data = 66.67%\n",
      "\n",
      "\n",
      "\n"
     ]
    }
   ],
   "source": [
    "# 3 - Random Forest\n",
    "\n",
    "print(\" Random Forest \")\n",
    "rfmodel = RandomForestClassifier()\n",
    "\n",
    "rf_param_grid = {\n",
    "    'n_estimators': [100, 200, 300, 400],\n",
    "    'max_depth': [10, 20, 30, None],\n",
    "    'min_samples_split': [2, 4, 6],\n",
    "    'min_samples_leaf': [1, 2, 3],\n",
    "    'max_features': ['sqrt', 'log2', None],\n",
    "    'bootstrap': [True, False]\n",
    "}\n",
    "\n",
    "rf_grid_search = GridSearchCV(rfmodel, rf_param_grid, cv=5, scoring='accuracy', n_jobs=-1)\n",
    "rf_grid_search.fit(X_train, y_train)\n",
    "\n",
    "print(\"Best parameters (GridSearch):\", rf_grid_search.best_params_)\n",
    "acc_rf_grid = accuracy_calc(rf_grid_search)\n",
    "print(\"\\n\")\n",
    "\n",
    "rf_random_search = RandomizedSearchCV(rfmodel, rf_param_grid, cv=5, scoring='accuracy', n_iter=20, n_jobs=-1)\n",
    "rf_random_search.fit(X_train, y_train)\n",
    "\n",
    "print(\"Best parameters (RandomSearch):\", rf_random_search.best_params_)\n",
    "acc_rf_random = accuracy_calc(rf_random_search)\n",
    "print(\"\\n\\n\")"
   ]
  },
  {
   "cell_type": "code",
   "execution_count": 7,
   "id": "e22d95a7",
   "metadata": {},
   "outputs": [
    {
     "name": "stdout",
     "output_type": "stream",
     "text": [
      " Support Vector Machine (SVM) \n",
      "Best parameters (GridSearch): {'C': 10, 'degree': 4, 'gamma': 'scale', 'kernel': 'poly'}\n",
      "accuracy of training data = 86.08%\n",
      "accuracy of testing data = 58.33%\n",
      "\n",
      "\n",
      "Best parameters (RandomSearch): {'kernel': 'linear', 'gamma': 'scale', 'degree': 2, 'C': 0.1}\n",
      "accuracy of training data = 61.18%\n",
      "accuracy of testing data = 61.67%\n",
      "\n",
      "\n",
      "\n"
     ]
    }
   ],
   "source": [
    "# 4 - SVM\n",
    "\n",
    "print(\" Support Vector Machine (SVM) \")\n",
    "svmmodel = SVC()\n",
    "\n",
    "svm_param_grid = {\n",
    "    'C': [0.1, 1, 10, 100],\n",
    "    'kernel': ['linear', 'rbf', 'poly'],\n",
    "    'gamma': ['scale', 'auto', 0.01, 0.1, 1],\n",
    "    'degree': [2, 3, 4]\n",
    "}\n",
    "\n",
    "svm_grid_search = GridSearchCV(svmmodel, svm_param_grid, cv=5, scoring='accuracy', n_jobs=-1)\n",
    "svm_grid_search.fit(X_train, y_train)\n",
    "\n",
    "print(\"Best parameters (GridSearch):\", svm_grid_search.best_params_)\n",
    "acc_svm_grid = accuracy_calc(svm_grid_search)\n",
    "print(\"\\n\")\n",
    "\n",
    "svm_random_search = RandomizedSearchCV(svmmodel, svm_param_grid, cv=5, scoring='accuracy', n_iter=20, n_jobs=-1)\n",
    "svm_random_search.fit(X_train, y_train)\n",
    "\n",
    "print(\"Best parameters (RandomSearch):\", svm_random_search.best_params_)\n",
    "acc_svm_random = accuracy_calc(svm_random_search)\n",
    "print(\"\\n\\n\")\n"
   ]
  },
  {
   "cell_type": "code",
   "execution_count": 8,
   "id": "31ad196f",
   "metadata": {},
   "outputs": [
    {
     "name": "stdout",
     "output_type": "stream",
     "text": [
      "Best model is: Decision Tree (Random) with accuracy = 68.33%\n"
     ]
    }
   ],
   "source": [
    "# Compare best models\n",
    "results = {\n",
    "    \"Logistic Regression (Grid)\": acc_lr_grid,\n",
    "    \"Logistic Regression (Random)\": acc_lr_random,\n",
    "    \"Decision Tree (Grid)\": acc_dt_grid,\n",
    "    \"Decision Tree (Random)\": acc_dt_random,\n",
    "    \"Random Forest (Grid)\": acc_rf_grid,\n",
    "    \"Random Forest (Random)\": acc_rf_random,\n",
    "    \"SVM (Grid)\": acc_svm_grid,\n",
    "    \"SVM (Random)\": acc_svm_random\n",
    "}\n",
    "\n",
    "best_model = max(results, key=results.get)\n",
    "\n",
    "print(f\"Best model is: {best_model} with accuracy = {results[best_model]*100:.2f}%\")"
   ]
  }
 ],
 "metadata": {
  "kernelspec": {
   "display_name": ".venv (3.11.9)",
   "language": "python",
   "name": "python3"
  },
  "language_info": {
   "codemirror_mode": {
    "name": "ipython",
    "version": 3
   },
   "file_extension": ".py",
   "mimetype": "text/x-python",
   "name": "python",
   "nbconvert_exporter": "python",
   "pygments_lexer": "ipython3",
   "version": "3.11.9"
  }
 },
 "nbformat": 4,
 "nbformat_minor": 5
}
