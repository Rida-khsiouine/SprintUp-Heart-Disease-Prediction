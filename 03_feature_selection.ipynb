{
 "cells": [
  {
   "cell_type": "markdown",
   "id": "88e61783",
   "metadata": {},
   "source": [
    "# Sprintup Project - 3. Feature Selection"
   ]
  },
  {
   "cell_type": "code",
   "execution_count": 1,
   "id": "b63d5b5e",
   "metadata": {},
   "outputs": [],
   "source": [
    "from sklearn.ensemble import RandomForestClassifier\n",
    "import pandas as pd\n",
    "import numpy as np\n",
    "import matplotlib.pyplot as plt\n",
    "import seaborn as sns\n",
    "from sklearn.preprocessing import StandardScaler, MinMaxScaler\n",
    "from xgboost import XGBClassifier, plot_importance\n",
    "from sklearn.feature_selection import RFE\n",
    "from sklearn.linear_model import LogisticRegression\n",
    "from sklearn.feature_selection import SelectKBest, chi2\n",
    "from collections import Counter"
   ]
  },
  {
   "cell_type": "code",
   "execution_count": 2,
   "id": "02926a89",
   "metadata": {},
   "outputs": [],
   "source": [
    "%%capture\n",
    "%run \"./01_data_preprocessing.ipynb\""
   ]
  },
  {
   "cell_type": "markdown",
   "id": "78130b61",
   "metadata": {},
   "source": [
    "So we will use multiple feature selection methods to identify the most important features in our dataset.\n",
    "These methods include XGBoost, Recursive Feature Elimination (RFE), and Chi-Square Test.\n",
    "We will then compare the results from these methods to identify a set of primary features that are consistently important across different techniques.\n",
    "\n",
    "let's get started with XGBoost Feature Importance"
   ]
  },
  {
   "cell_type": "code",
   "execution_count": 3,
   "id": "7afb23de",
   "metadata": {},
   "outputs": [
    {
     "data": {
      "image/png": "[encoded data removed]",
      "text/plain": [
       "<Figure size 640x480 with 1 Axes>"
      ]
     },
     "metadata": {},
     "output_type": "display_data"
    },
    {
     "name": "stdout",
     "output_type": "stream",
     "text": [
      "Top 8 XGBOOST features: ['cp_4', 'thal_7.0', 'slope_3', 'ca', 'thal_6.0', 'sex', 'oldpeak', 'exang']\n"
     ]
    }
   ],
   "source": [
    "# we first train a xgboost model and then extract feature importances   \n",
    "xgb = XGBClassifier()\n",
    "xgb.fit(X_encoded_scaled, y)\n",
    "xgb_feature_importances = xgb.feature_importances_\n",
    "df_xgb_features = pd.DataFrame({'Feature': X_encoded_scaled.columns, 'Importance': xgb_feature_importances\n",
    "}).sort_values(by='Importance', ascending=False)\n",
    "# Plot importance\n",
    "sns.barplot(x=df_xgb_features['Importance'], y=df_xgb_features['Feature'], orient='h')\n",
    "plt.show()\n",
    "#visualizing the top 8 features\n",
    "top_8_xgboost_features = df_xgb_features['Feature'].head(8).tolist() \n",
    "print('Top 8 XGBOOST features:' ,top_8_xgboost_features)\n"
   ]
  },
  {
   "cell_type": "markdown",
   "id": "490710b9",
   "metadata": {},
   "source": [
    "### After XGBoost, let's apply the recursive feature elimination (RFE) method"
   ]
  },
  {
   "cell_type": "code",
   "execution_count": 4,
   "id": "4b5bd52f",
   "metadata": {},
   "outputs": [
    {
     "name": "stdout",
     "output_type": "stream",
     "text": [
      " Top 8 RFE Features: ['sex', 'fbs', 'oldpeak', 'ca', 'cp_4', 'slope_2', 'slope_3', 'thal_7.0']\n",
      " Feature Rankings:\n",
      "      Feature  RFE_Rank\n",
      "1         sex         1\n",
      "4         fbs         1\n",
      "7     oldpeak         1\n",
      "8          ca         1\n",
      "15    slope_3         1\n",
      "14    slope_2         1\n",
      "11       cp_4         1\n",
      "17   thal_7.0         1\n",
      "16   thal_6.0         2\n",
      "5     thalach         3\n",
      "6       exang         4\n",
      "0         age         5\n",
      "2    trestbps         6\n",
      "9        cp_2         7\n",
      "3        chol         8\n",
      "10       cp_3         9\n",
      "13  restecg_2        10\n",
      "12  restecg_1        11\n",
      "AS we can see from the above table, the top 8 features have rank 1\n"
     ]
    }
   ],
   "source": [
    "\n",
    "# We want to find the best 8 features \n",
    "rfe = RFE(n_features_to_select=8,estimator=XGBClassifier())\n",
    "\n",
    "# first we fit the RFE model\n",
    "rfe.fit(X_encoded_scaled, y)\n",
    "\n",
    "# then we get the selected features \n",
    "rfe_features = X_encoded_scaled.columns[rfe.support_].tolist()\n",
    "print(\" Top 8 RFE Features:\", rfe_features)\n",
    "\n",
    "# Create a DataFrame to display feature rankings\n",
    "feature_ranks = pd.DataFrame({'Feature': X_encoded_scaled.columns,'RFE_Rank': rfe.ranking_}).sort_values('RFE_Rank')\n",
    "\n",
    "#Displaying the feature rankings(lower is better)\n",
    "print(\" Feature Rankings:\")\n",
    "print(feature_ranks)\n",
    "print('AS we can see from the above table, the top 8 features have rank 1')"
   ]
  },
  {
   "cell_type": "markdown",
   "id": "e8c44b03",
   "metadata": {},
   "source": [
    "### Now let's apply the Chi-Square Test ###"
   ]
  },
  {
   "cell_type": "code",
   "execution_count": 5,
   "id": "b1c9aa5b",
   "metadata": {},
   "outputs": [],
   "source": [
    "# Chi-Square works best with categorical data and non-negative values\n",
    "# Since we scaled our data, we need to make sure it's non-negative\n",
    "scaler_minmax = MinMaxScaler()\n",
    "X_non_negative = scaler_minmax.fit_transform(X_encoded_scaled)"
   ]
  },
  {
   "cell_type": "markdown",
   "id": "316e5fc4",
   "metadata": {},
   "source": [
    "We applied MinMax scaling to transform features into the [0,1] range, ensuring all values were non-negative and comparable in magnitude, which is required for the Chi-Square test."
   ]
  },
  {
   "cell_type": "code",
   "execution_count": 6,
   "id": "35104448",
   "metadata": {},
   "outputs": [],
   "source": [
    "# We'll test all features against the target\n",
    "chi2_selector = SelectKBest(score_func=chi2, k='all')  # Test all features\n",
    "chi2_selector.fit(X_non_negative, y)\n",
    "\n",
    "# Get scores and p-values\n",
    "chi2_scores = chi2_selector.scores_\n",
    "chi2_pvalues = chi2_selector.pvalues_"
   ]
  },
  {
   "cell_type": "code",
   "execution_count": 7,
   "id": "414c8a2b",
   "metadata": {},
   "outputs": [
    {
     "name": "stdout",
     "output_type": "stream",
     "text": [
      "Chi-Square Test Results:\n",
      "      Feature  Chi2_Score       P_Value\n",
      "17   thal_7.0   46.644612  1.808239e-09\n",
      "11       cp_4   42.638819  1.229648e-08\n",
      "6       exang   39.119182  6.582518e-08\n",
      "8          ca   35.737851  3.276208e-07\n",
      "14    slope_2   21.414294  2.620573e-04\n",
      "10       cp_3   20.404160  4.155197e-04\n",
      "7     oldpeak   19.085969  7.559585e-04\n",
      "9        cp_2   16.518950  2.396304e-03\n",
      "16   thal_6.0   10.982280  2.676388e-02\n",
      "1         sex    7.511646  1.111968e-01\n",
      "4         fbs    6.778461  1.480690e-01\n",
      "12  restecg_1    6.418458  1.700012e-01\n",
      "13  restecg_2    5.933221  2.041912e-01\n",
      "15    slope_3    5.297864  2.580769e-01\n",
      "5     thalach    3.194716  5.257848e-01\n",
      "0         age    1.244537  8.707128e-01\n",
      "2    trestbps    0.637719  9.587814e-01\n",
      "3        chol    0.177620  9.962823e-01\n"
     ]
    }
   ],
   "source": [
    "# Create a results table\n",
    "chi2_results = pd.DataFrame({'Feature': X_encoded_scaled.columns,'Chi2_Score': chi2_scores,'P_Value': chi2_pvalues\n",
    "}).sort_values('Chi2_Score', ascending=False)\n",
    "\n",
    "print(\"Chi-Square Test Results:\")\n",
    "print(chi2_results)"
   ]
  },
  {
   "cell_type": "markdown",
   "id": "61485845",
   "metadata": {},
   "source": [
    "### the significant features are those with p-value < 0.05 "
   ]
  },
  {
   "cell_type": "code",
   "execution_count": 8,
   "id": "905533bd",
   "metadata": {},
   "outputs": [
    {
     "name": "stdout",
     "output_type": "stream",
     "text": [
      " Top 8 significant features with (p < 0.05): ['thal_7.0', 'cp_4', 'exang', 'ca', 'slope_2', 'cp_3', 'oldpeak', 'cp_2']\n"
     ]
    }
   ],
   "source": [
    "# Highlight statistically significant features\n",
    "significant_features = chi2_results[chi2_results['P_Value'] < 0.05]['Feature'].tolist()\n",
    "print(\" Top 8 significant features with (p < 0.05):\", significant_features[:8])"
   ]
  },
  {
   "cell_type": "code",
   "execution_count": 9,
   "id": "5dc56139",
   "metadata": {},
   "outputs": [
    {
     "name": "stdout",
     "output_type": "stream",
     "text": [
      "Selected 6 Features by 3 methods: ['cp_4', 'thal_7.0', 'ca', 'oldpeak', 'slope_3', 'sex']\n"
     ]
    }
   ],
   "source": [
    "xgb_top8_features=top_8_xgboost_features\n",
    "rfe_top8_features=rfe_features\n",
    "cst_top8_features=significant_features[:8]\n",
    "# Get top 6 most important features from each method\n",
    "combined = xgb_top8_features + rfe_top8_features + cst_top8_features\n",
    "counter = Counter(combined)\n",
    "most_common = [item[0] for item in counter.most_common(6)]\n",
    "\n",
    "print(f\"Selected 6 Features by 3 methods: {most_common}\")\n",
    "\n",
    "primary_features = X_encoded_scaled[most_common]"
   ]
  },
  {
   "cell_type": "markdown",
   "id": "be227256",
   "metadata": {},
   "source": [
    "### The categorical feature restecg was one-hot encoded into restecg_1 and restecg_2. Both dummies consistently showed low importance across Chi-Square, RFE, and XGBoost, indicating limited predictive value.\n",
    "\n",
    "### Therefore, restecg was excluded from the final feature set, while ensuring that more relevant categorical groups (e.g., cp, slope, thal) were preserved in full whenever at least one of their dummy variables was found important."
   ]
  },
  {
   "cell_type": "code",
   "execution_count": 10,
   "id": "753eabdc",
   "metadata": {},
   "outputs": [
    {
     "name": "stdout",
     "output_type": "stream",
     "text": [
      " Final dataset shape: (297, 10)\n",
      " Ready for model training!\n"
     ]
    },
    {
     "data": {
      "text/html": [
       "<div>\n",
       "<style scoped>\n",
       "    .dataframe tbody tr th:only-of-type {\n",
       "        vertical-align: middle;\n",
       "    }\n",
       "\n",
       "    .dataframe tbody tr th {\n",
       "        vertical-align: top;\n",
       "    }\n",
       "\n",
       "    .dataframe thead th {\n",
       "        text-align: right;\n",
       "    }\n",
       "</style>\n",
       "<table border=\"1\" class=\"dataframe\">\n",
       "  <thead>\n",
       "    <tr style=\"text-align: right;\">\n",
       "      <th></th>\n",
       "      <th>sex</th>\n",
       "      <th>cp_2</th>\n",
       "      <th>cp_3</th>\n",
       "      <th>cp_4</th>\n",
       "      <th>slope_2</th>\n",
       "      <th>slope_3</th>\n",
       "      <th>oldpeak</th>\n",
       "      <th>ca</th>\n",
       "      <th>thal_6.0</th>\n",
       "      <th>thal_7.0</th>\n",
       "    </tr>\n",
       "  </thead>\n",
       "  <tbody>\n",
       "    <tr>\n",
       "      <th>0</th>\n",
       "      <td>1</td>\n",
       "      <td>0</td>\n",
       "      <td>0</td>\n",
       "      <td>0</td>\n",
       "      <td>0</td>\n",
       "      <td>1</td>\n",
       "      <td>1.136764</td>\n",
       "      <td>0</td>\n",
       "      <td>1</td>\n",
       "      <td>0</td>\n",
       "    </tr>\n",
       "    <tr>\n",
       "      <th>1</th>\n",
       "      <td>1</td>\n",
       "      <td>0</td>\n",
       "      <td>0</td>\n",
       "      <td>1</td>\n",
       "      <td>1</td>\n",
       "      <td>0</td>\n",
       "      <td>0.206684</td>\n",
       "      <td>3</td>\n",
       "      <td>0</td>\n",
       "      <td>0</td>\n",
       "    </tr>\n",
       "    <tr>\n",
       "      <th>2</th>\n",
       "      <td>1</td>\n",
       "      <td>0</td>\n",
       "      <td>0</td>\n",
       "      <td>1</td>\n",
       "      <td>1</td>\n",
       "      <td>0</td>\n",
       "      <td>1.136764</td>\n",
       "      <td>2</td>\n",
       "      <td>0</td>\n",
       "      <td>1</td>\n",
       "    </tr>\n",
       "    <tr>\n",
       "      <th>3</th>\n",
       "      <td>1</td>\n",
       "      <td>0</td>\n",
       "      <td>1</td>\n",
       "      <td>0</td>\n",
       "      <td>0</td>\n",
       "      <td>1</td>\n",
       "      <td>2.066844</td>\n",
       "      <td>0</td>\n",
       "      <td>0</td>\n",
       "      <td>0</td>\n",
       "    </tr>\n",
       "    <tr>\n",
       "      <th>4</th>\n",
       "      <td>0</td>\n",
       "      <td>1</td>\n",
       "      <td>0</td>\n",
       "      <td>0</td>\n",
       "      <td>0</td>\n",
       "      <td>0</td>\n",
       "      <td>0.206684</td>\n",
       "      <td>0</td>\n",
       "      <td>0</td>\n",
       "      <td>0</td>\n",
       "    </tr>\n",
       "    <tr>\n",
       "      <th>...</th>\n",
       "      <td>...</td>\n",
       "      <td>...</td>\n",
       "      <td>...</td>\n",
       "      <td>...</td>\n",
       "      <td>...</td>\n",
       "      <td>...</td>\n",
       "      <td>...</td>\n",
       "      <td>...</td>\n",
       "      <td>...</td>\n",
       "      <td>...</td>\n",
       "    </tr>\n",
       "    <tr>\n",
       "      <th>292</th>\n",
       "      <td>0</td>\n",
       "      <td>0</td>\n",
       "      <td>0</td>\n",
       "      <td>1</td>\n",
       "      <td>1</td>\n",
       "      <td>0</td>\n",
       "      <td>-0.723395</td>\n",
       "      <td>0</td>\n",
       "      <td>0</td>\n",
       "      <td>1</td>\n",
       "    </tr>\n",
       "    <tr>\n",
       "      <th>293</th>\n",
       "      <td>1</td>\n",
       "      <td>0</td>\n",
       "      <td>0</td>\n",
       "      <td>0</td>\n",
       "      <td>1</td>\n",
       "      <td>0</td>\n",
       "      <td>0.206684</td>\n",
       "      <td>0</td>\n",
       "      <td>0</td>\n",
       "      <td>1</td>\n",
       "    </tr>\n",
       "    <tr>\n",
       "      <th>294</th>\n",
       "      <td>1</td>\n",
       "      <td>0</td>\n",
       "      <td>0</td>\n",
       "      <td>1</td>\n",
       "      <td>1</td>\n",
       "      <td>0</td>\n",
       "      <td>2.066844</td>\n",
       "      <td>2</td>\n",
       "      <td>0</td>\n",
       "      <td>1</td>\n",
       "    </tr>\n",
       "    <tr>\n",
       "      <th>295</th>\n",
       "      <td>1</td>\n",
       "      <td>0</td>\n",
       "      <td>0</td>\n",
       "      <td>1</td>\n",
       "      <td>1</td>\n",
       "      <td>0</td>\n",
       "      <td>0.206684</td>\n",
       "      <td>1</td>\n",
       "      <td>0</td>\n",
       "      <td>1</td>\n",
       "    </tr>\n",
       "    <tr>\n",
       "      <th>296</th>\n",
       "      <td>0</td>\n",
       "      <td>1</td>\n",
       "      <td>0</td>\n",
       "      <td>0</td>\n",
       "      <td>1</td>\n",
       "      <td>0</td>\n",
       "      <td>-0.723395</td>\n",
       "      <td>1</td>\n",
       "      <td>0</td>\n",
       "      <td>0</td>\n",
       "    </tr>\n",
       "  </tbody>\n",
       "</table>\n",
       "<p>297 rows × 10 columns</p>\n",
       "</div>"
      ],
      "text/plain": [
       "     sex  cp_2  cp_3  cp_4  slope_2  slope_3   oldpeak  ca  thal_6.0  thal_7.0\n",
       "0      1     0     0     0        0        1  1.136764   0         1         0\n",
       "1      1     0     0     1        1        0  0.206684   3         0         0\n",
       "2      1     0     0     1        1        0  1.136764   2         0         1\n",
       "3      1     0     1     0        0        1  2.066844   0         0         0\n",
       "4      0     1     0     0        0        0  0.206684   0         0         0\n",
       "..   ...   ...   ...   ...      ...      ...       ...  ..       ...       ...\n",
       "292    0     0     0     1        1        0 -0.723395   0         0         1\n",
       "293    1     0     0     0        1        0  0.206684   0         0         1\n",
       "294    1     0     0     1        1        0  2.066844   2         0         1\n",
       "295    1     0     0     1        1        0  0.206684   1         0         1\n",
       "296    0     1     0     0        1        0 -0.723395   1         0         0\n",
       "\n",
       "[297 rows x 10 columns]"
      ]
     },
     "execution_count": 10,
     "metadata": {},
     "output_type": "execute_result"
    }
   ],
   "source": [
    "# let's create the final dataset with the selected features\n",
    "X_final = X_encoded_scaled[list(primary_features)]\n",
    "category_completion_features=[\"cp_2\", \"cp_3\", \"thal_6.0\",\"slope_2\"]\n",
    "X_final = pd.concat([X_final, X_encoded_scaled[category_completion_features]], axis=1)\n",
    "orderd_columns =[\"sex\",\"cp_2\",\"cp_3\",\"cp_4\",\"slope_2\",\"slope_3\",\"oldpeak\",\"ca\",\"thal_6.0\",\"thal_7.0\"]\n",
    "X_final = X_final.reindex(columns=orderd_columns)\n",
    "print(f\" Final dataset shape: {X_final.shape}\")\n",
    "print(\" Ready for model training!\")\n",
    "\n",
    "X_final"
   ]
  }
 ],
 "metadata": {
  "kernelspec": {
   "display_name": ".venv (3.11.9)",
   "language": "python",
   "name": "python3"
  },
  "language_info": {
   "codemirror_mode": {
    "name": "ipython",
    "version": 3
   },
   "file_extension": ".py",
   "mimetype": "text/x-python",
   "name": "python",
   "nbconvert_exporter": "python",
   "pygments_lexer": "ipython3",
   "version": "3.11.9"
  }
 },
 "nbformat": 4,
 "nbformat_minor": 5
}
